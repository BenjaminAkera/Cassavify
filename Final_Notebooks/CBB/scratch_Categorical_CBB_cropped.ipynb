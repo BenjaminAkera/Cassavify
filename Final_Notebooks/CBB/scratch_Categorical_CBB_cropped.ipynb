{
 "cells": [
  {
   "cell_type": "markdown",
   "metadata": {},
   "source": [
    "# Cropped CBB2 vs CBB3+ Classifier Using a Deep ConvNet trained from Scratch"
   ]
  },
  {
   "cell_type": "code",
   "execution_count": 3,
   "metadata": {},
   "outputs": [],
   "source": [
    "from keras.models import Sequential\n",
    "from keras.layers import Conv2D,MaxPooling2D\n",
    "from keras.layers import Activation, Dropout, Flatten, Dense\n",
    "from keras.preprocessing.image import ImageDataGenerator"
   ]
  },
  {
   "cell_type": "code",
   "execution_count": 4,
   "metadata": {},
   "outputs": [],
   "source": [
    "model = Sequential()\n",
    "model.add(Conv2D(32, (3,3), input_shape= (150,150,3)))\n",
    "model.add(Activation('relu'))\n",
    "model.add(MaxPooling2D(pool_size=(2, 2)))\n",
    "\n",
    "model.add(Conv2D(32, (3, 3)))\n",
    "model.add(Activation('relu'))\n",
    "model.add(MaxPooling2D(pool_size=(2, 2)))\n",
    "\n",
    "model.add(Conv2D(64, (3, 3)))\n",
    "model.add(Activation('relu'))\n",
    "model.add(MaxPooling2D(pool_size=(2, 2)))\n",
    "\n",
    "\n",
    "model.add(Flatten())  # this converts our 3D feature maps to 1D feature vectors\n",
    "model.add(Dense(64))\n",
    "model.add(Activation('relu'))\n",
    "model.add(Dropout(0.5))\n",
    "model.add(Dense(1))\n",
    "model.add(Activation('sigmoid'))\n",
    "\n",
    "model.compile(loss='binary_crossentropy',\n",
    "              optimizer='rmsprop',\n",
    "              metrics=['accuracy'])"
   ]
  },
  {
   "cell_type": "code",
   "execution_count": 5,
   "metadata": {},
   "outputs": [],
   "source": [
    "### we prepare the data"
   ]
  },
  {
   "cell_type": "code",
   "execution_count": 6,
   "metadata": {},
   "outputs": [
    {
     "name": "stdout",
     "output_type": "stream",
     "text": [
      "Found 290 images belonging to 2 classes.\n",
      "Found 60 images belonging to 2 classes.\n"
     ]
    }
   ],
   "source": [
    "batch_size = 16\n",
    "\n",
    "## augmentation configuration we shall use for training\n",
    "\n",
    "train_datagen =ImageDataGenerator(\n",
    "                rescale = 1./255,\n",
    "                shear_range=0.2,\n",
    "                zoom_range=0.2,\n",
    "                horizontal_flip=True)\n",
    "\n",
    "test_datagen = ImageDataGenerator(rescale=1./255)\n",
    "\n",
    "train_generator = train_datagen.flow_from_directory(\n",
    "    'data3/train/',\n",
    "    target_size = (150,150),\n",
    "    batch_size = batch_size,\n",
    "    class_mode = 'binary')\n",
    "\n",
    "validation_generator = train_datagen.flow_from_directory(\n",
    "    'data3/validation/',\n",
    "    target_size = (150,150),\n",
    "    batch_size = batch_size,\n",
    "    class_mode = 'binary')"
   ]
  },
  {
   "cell_type": "code",
   "execution_count": 7,
   "metadata": {},
   "outputs": [
    {
     "name": "stdout",
     "output_type": "stream",
     "text": [
      "Epoch 1/50\n",
      "125/125 [==============================] - 101s - loss: 0.7186 - acc: 0.6189 - val_loss: 0.5681 - val_acc: 0.7141\n",
      "Epoch 2/50\n",
      "125/125 [==============================] - 107s - loss: 0.6008 - acc: 0.6870 - val_loss: 0.6030 - val_acc: 0.7447\n",
      "Epoch 3/50\n",
      "125/125 [==============================] - 108s - loss: 0.5742 - acc: 0.6990 - val_loss: 0.6139 - val_acc: 0.6981\n",
      "Epoch 4/50\n",
      "125/125 [==============================] - 97s - loss: 0.5440 - acc: 0.7230 - val_loss: 0.5709 - val_acc: 0.7487\n",
      "Epoch 5/50\n",
      "125/125 [==============================] - 94s - loss: 0.5210 - acc: 0.7316 - val_loss: 0.5870 - val_acc: 0.6702\n",
      "Epoch 6/50\n",
      "125/125 [==============================] - 91s - loss: 0.4667 - acc: 0.7630 - val_loss: 0.7342 - val_acc: 0.6902\n",
      "Epoch 7/50\n",
      "125/125 [==============================] - 91s - loss: 0.4384 - acc: 0.7875 - val_loss: 0.6465 - val_acc: 0.6543\n",
      "Epoch 8/50\n",
      "125/125 [==============================] - 97s - loss: 0.3869 - acc: 0.8210 - val_loss: 0.6622 - val_acc: 0.6529\n",
      "Epoch 9/50\n",
      "125/125 [==============================] - 119s - loss: 0.3632 - acc: 0.8310 - val_loss: 0.8335 - val_acc: 0.6476\n",
      "Epoch 10/50\n",
      "125/125 [==============================] - 136s - loss: 0.3454 - acc: 0.8470 - val_loss: 0.8111 - val_acc: 0.6410\n",
      "Epoch 11/50\n",
      "125/125 [==============================] - 118s - loss: 0.3017 - acc: 0.8764 - val_loss: 0.8217 - val_acc: 0.6662\n",
      "Epoch 12/50\n",
      "125/125 [==============================] - 115s - loss: 0.2822 - acc: 0.8830 - val_loss: 1.0804 - val_acc: 0.6356\n",
      "Epoch 13/50\n",
      "125/125 [==============================] - 100s - loss: 0.2643 - acc: 0.8940 - val_loss: 0.9601 - val_acc: 0.6237\n",
      "Epoch 14/50\n",
      "125/125 [==============================] - 99s - loss: 0.2410 - acc: 0.9045 - val_loss: 1.1248 - val_acc: 0.6609\n",
      "Epoch 15/50\n",
      "125/125 [==============================] - 94s - loss: 0.2253 - acc: 0.9105 - val_loss: 1.1780 - val_acc: 0.6596\n",
      "Epoch 16/50\n",
      "125/125 [==============================] - 111s - loss: 0.2001 - acc: 0.9285 - val_loss: 1.2108 - val_acc: 0.6223\n",
      "Epoch 17/50\n",
      "125/125 [==============================] - 103s - loss: 0.2063 - acc: 0.9225 - val_loss: 1.3094 - val_acc: 0.6290\n",
      "Epoch 18/50\n",
      "125/125 [==============================] - 108s - loss: 0.1889 - acc: 0.9290 - val_loss: 1.4543 - val_acc: 0.6356\n",
      "Epoch 19/50\n",
      "125/125 [==============================] - 103s - loss: 0.1748 - acc: 0.9415 - val_loss: 1.2490 - val_acc: 0.6356\n",
      "Epoch 20/50\n",
      "125/125 [==============================] - 108s - loss: 0.1759 - acc: 0.9316 - val_loss: 1.2326 - val_acc: 0.6051\n",
      "Epoch 21/50\n",
      "125/125 [==============================] - 106s - loss: 0.1753 - acc: 0.9430 - val_loss: 1.8489 - val_acc: 0.6489\n",
      "Epoch 22/50\n",
      "125/125 [==============================] - 97s - loss: 0.1761 - acc: 0.9340 - val_loss: 1.3417 - val_acc: 0.5984\n",
      "Epoch 23/50\n",
      "125/125 [==============================] - 92s - loss: 0.1647 - acc: 0.9480 - val_loss: 1.1742 - val_acc: 0.6170\n",
      "Epoch 24/50\n",
      "125/125 [==============================] - 92s - loss: 0.1681 - acc: 0.9370 - val_loss: 1.0001 - val_acc: 0.6316\n",
      "Epoch 25/50\n",
      "125/125 [==============================] - 91s - loss: 0.1376 - acc: 0.9515 - val_loss: 1.6192 - val_acc: 0.5771\n",
      "Epoch 26/50\n",
      "125/125 [==============================] - 90s - loss: 0.1689 - acc: 0.9490 - val_loss: 2.0730 - val_acc: 0.5971\n",
      "Epoch 27/50\n",
      "125/125 [==============================] - 90s - loss: 0.1879 - acc: 0.9440 - val_loss: 1.6874 - val_acc: 0.6130\n",
      "Epoch 28/50\n",
      "125/125 [==============================] - 90s - loss: 0.1456 - acc: 0.9535 - val_loss: 1.6267 - val_acc: 0.6157\n",
      "Epoch 29/50\n",
      "125/125 [==============================] - 90s - loss: 0.1540 - acc: 0.9465 - val_loss: 1.4074 - val_acc: 0.6117\n",
      "Epoch 30/50\n",
      "125/125 [==============================] - 90s - loss: 0.1271 - acc: 0.9605 - val_loss: 1.9327 - val_acc: 0.5598\n",
      "Epoch 31/50\n",
      "125/125 [==============================] - 91s - loss: 0.1468 - acc: 0.9480 - val_loss: 1.6831 - val_acc: 0.6223\n",
      "Epoch 32/50\n",
      "125/125 [==============================] - 94s - loss: 0.1946 - acc: 0.9530 - val_loss: 1.7035 - val_acc: 0.6064\n",
      "Epoch 33/50\n",
      "125/125 [==============================] - 92s - loss: 0.1513 - acc: 0.9570 - val_loss: 1.7729 - val_acc: 0.6383\n",
      "Epoch 34/50\n",
      "125/125 [==============================] - 93s - loss: 0.1735 - acc: 0.9445 - val_loss: 1.8322 - val_acc: 0.6649\n",
      "Epoch 35/50\n",
      "125/125 [==============================] - 133s - loss: 0.1707 - acc: 0.9485 - val_loss: 2.3115 - val_acc: 0.6476\n",
      "Epoch 36/50\n",
      "125/125 [==============================] - 133s - loss: 0.1525 - acc: 0.9515 - val_loss: 2.1195 - val_acc: 0.6170\n",
      "Epoch 37/50\n",
      "125/125 [==============================] - 131s - loss: 0.2160 - acc: 0.9410 - val_loss: 1.2726 - val_acc: 0.5811\n",
      "Epoch 38/50\n",
      "125/125 [==============================] - 130s - loss: 0.1636 - acc: 0.9535 - val_loss: 1.9643 - val_acc: 0.6037\n",
      "Epoch 39/50\n",
      "125/125 [==============================] - 134s - loss: 0.1953 - acc: 0.9475 - val_loss: 2.1073 - val_acc: 0.5957\n",
      "Epoch 40/50\n",
      "125/125 [==============================] - 133s - loss: 0.1640 - acc: 0.9520 - val_loss: 2.1229 - val_acc: 0.6104\n",
      "Epoch 41/50\n",
      "125/125 [==============================] - 135s - loss: 0.2005 - acc: 0.9460 - val_loss: 1.3647 - val_acc: 0.6383\n",
      "Epoch 42/50\n",
      "125/125 [==============================] - 131s - loss: 0.2039 - acc: 0.9490 - val_loss: 2.3632 - val_acc: 0.6223\n",
      "Epoch 43/50\n",
      "125/125 [==============================] - 132s - loss: 0.1933 - acc: 0.9435 - val_loss: 2.0829 - val_acc: 0.5824\n",
      "Epoch 44/50\n",
      "125/125 [==============================] - 142s - loss: 0.2118 - acc: 0.9440 - val_loss: 1.5240 - val_acc: 0.5891\n",
      "Epoch 45/50\n",
      "125/125 [==============================] - 122s - loss: 0.1860 - acc: 0.9465 - val_loss: 2.3654 - val_acc: 0.6449\n",
      "Epoch 46/50\n",
      "125/125 [==============================] - 124s - loss: 0.2007 - acc: 0.9430 - val_loss: 1.7930 - val_acc: 0.6130\n",
      "Epoch 47/50\n",
      "125/125 [==============================] - 131s - loss: 0.1848 - acc: 0.9450 - val_loss: 2.7646 - val_acc: 0.6117\n",
      "Epoch 48/50\n",
      "125/125 [==============================] - 136s - loss: 0.1859 - acc: 0.9450 - val_loss: 2.4735 - val_acc: 0.6237\n",
      "Epoch 49/50\n",
      "125/125 [==============================] - 132s - loss: 0.2055 - acc: 0.9430 - val_loss: 1.9485 - val_acc: 0.6077\n",
      "Epoch 50/50\n",
      "125/125 [==============================] - 150s - loss: 0.1827 - acc: 0.9550 - val_loss: 2.2008 - val_acc: 0.6037\n"
     ]
    }
   ],
   "source": [
    "model.fit_generator(\n",
    "    train_generator,\n",
    "    steps_per_epoch=2000 // batch_size,\n",
    "    epochs = 50,\n",
    "    validation_data = validation_generator,\n",
    "    validation_steps = 800 // batch_size)\n",
    "\n",
    "model.save_weights('weights/second_try.h5')"
   ]
  },
  {
   "cell_type": "code",
   "execution_count": null,
   "metadata": {},
   "outputs": [],
   "source": []
  }
 ],
 "metadata": {
  "kernelspec": {
   "display_name": "Python 3",
   "language": "python",
   "name": "python3"
  },
  "language_info": {
   "codemirror_mode": {
    "name": "ipython",
    "version": 3
   },
   "file_extension": ".py",
   "mimetype": "text/x-python",
   "name": "python",
   "nbconvert_exporter": "python",
   "pygments_lexer": "ipython3",
   "version": "3.5.2"
  }
 },
 "nbformat": 4,
 "nbformat_minor": 2
}
