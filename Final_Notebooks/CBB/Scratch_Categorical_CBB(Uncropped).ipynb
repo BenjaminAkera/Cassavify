{
 "cells": [
  {
   "cell_type": "markdown",
   "metadata": {},
   "source": [
    "## Un-cropped CBB2 vs CBB3+ Classifier Using a Deep ConvNet trained from Scratch"
   ]
  },
  {
   "cell_type": "markdown",
   "metadata": {},
   "source": []
  },
  {
   "cell_type": "code",
   "execution_count": 1,
   "metadata": {},
   "outputs": [
    {
     "name": "stderr",
     "output_type": "stream",
     "text": [
      "/usr/local/lib/python3.5/dist-packages/h5py/__init__.py:36: FutureWarning: Conversion of the second argument of issubdtype from `float` to `np.floating` is deprecated. In future, it will be treated as `np.float64 == np.dtype(float).type`.\n",
      "  from ._conv import register_converters as _register_converters\n",
      "Using TensorFlow backend.\n"
     ]
    }
   ],
   "source": [
    "from keras.models import Sequential\n",
    "from keras.layers import Conv2D,MaxPooling2D\n",
    "from keras.layers import Activation, Dropout, Flatten, Dense\n",
    "from keras.preprocessing.image import ImageDataGenerator"
   ]
  },
  {
   "cell_type": "code",
   "execution_count": 2,
   "metadata": {},
   "outputs": [],
   "source": [
    "model = Sequential()\n",
    "model.add(Conv2D(32, (3,3), input_shape= (150,150,3)))\n",
    "model.add(Activation('relu'))\n",
    "model.add(MaxPooling2D(pool_size=(2, 2)))\n",
    "\n",
    "model.add(Conv2D(32, (3, 3)))\n",
    "model.add(Activation('relu'))\n",
    "model.add(MaxPooling2D(pool_size=(2, 2)))\n",
    "\n",
    "model.add(Conv2D(64, (3, 3)))\n",
    "model.add(Activation('relu'))\n",
    "model.add(MaxPooling2D(pool_size=(2, 2)))\n",
    "\n",
    "\n",
    "model.add(Flatten())  # this converts our 3D feature maps to 1D feature vectors\n",
    "model.add(Dense(64))\n",
    "model.add(Activation('relu'))\n",
    "model.add(Dropout(0.5))\n",
    "model.add(Dense(1))\n",
    "model.add(Activation('sigmoid'))\n",
    "\n",
    "model.compile(loss='binary_crossentropy',\n",
    "              optimizer='rmsprop',\n",
    "              metrics=['accuracy'])"
   ]
  },
  {
   "cell_type": "code",
   "execution_count": 3,
   "metadata": {},
   "outputs": [],
   "source": [
    "### we prepare the data"
   ]
  },
  {
   "cell_type": "code",
   "execution_count": 4,
   "metadata": {},
   "outputs": [
    {
     "name": "stdout",
     "output_type": "stream",
     "text": [
      "Found 302 images belonging to 2 classes.\n",
      "Found 120 images belonging to 2 classes.\n"
     ]
    }
   ],
   "source": [
    "batch_size = 16\n",
    "\n",
    "## augmentation configuration we shall use for training\n",
    "\n",
    "train_datagen =ImageDataGenerator(\n",
    "                rescale = 1./255,\n",
    "                shear_range=0.2,\n",
    "                zoom_range=0.2,\n",
    "                horizontal_flip=True)\n",
    "\n",
    "test_datagen = ImageDataGenerator(rescale=1./255)\n",
    "\n",
    "train_generator = train_datagen.flow_from_directory(\n",
    "    'data4/train',\n",
    "    target_size = (150,150),\n",
    "    batch_size = batch_size,\n",
    "    class_mode = 'binary')\n",
    "\n",
    "validation_generator = train_datagen.flow_from_directory(\n",
    "    'data4/validation',\n",
    "    target_size = (150,150),\n",
    "    batch_size = batch_size,\n",
    "    class_mode = 'binary')"
   ]
  },
  {
   "cell_type": "code",
   "execution_count": 5,
   "metadata": {},
   "outputs": [
    {
     "name": "stdout",
     "output_type": "stream",
     "text": [
      "Epoch 1/50\n",
      "125/125 [==============================] - 192s - loss: 0.6888 - acc: 0.5932 - val_loss: 0.6988 - val_acc: 0.6210\n",
      "Epoch 2/50\n",
      "125/125 [==============================] - 188s - loss: 0.5940 - acc: 0.6884 - val_loss: 0.6719 - val_acc: 0.6981\n",
      "Epoch 3/50\n",
      "125/125 [==============================] - 177s - loss: 0.5621 - acc: 0.7225 - val_loss: 0.6968 - val_acc: 0.6734\n",
      "Epoch 4/50\n",
      "125/125 [==============================] - 176s - loss: 0.4952 - acc: 0.7581 - val_loss: 0.8263 - val_acc: 0.6742\n",
      "Epoch 5/50\n",
      "125/125 [==============================] - 191s - loss: 0.4373 - acc: 0.7992 - val_loss: 0.8293 - val_acc: 0.6689\n",
      "Epoch 6/50\n",
      "125/125 [==============================] - 168s - loss: 0.3810 - acc: 0.8279 - val_loss: 0.9994 - val_acc: 0.6505\n",
      "Epoch 7/50\n",
      "125/125 [==============================] - 168s - loss: 0.3283 - acc: 0.8643 - val_loss: 1.0555 - val_acc: 0.6596\n",
      "Epoch 8/50\n",
      "125/125 [==============================] - 169s - loss: 0.2863 - acc: 0.8821 - val_loss: 1.5011 - val_acc: 0.6330\n",
      "Epoch 9/50\n",
      "125/125 [==============================] - 171s - loss: 0.2333 - acc: 0.9134 - val_loss: 1.6399 - val_acc: 0.6556\n",
      "Epoch 10/50\n",
      "125/125 [==============================] - 171s - loss: 0.2188 - acc: 0.9226 - val_loss: 1.3756 - val_acc: 0.6423\n",
      "Epoch 11/50\n",
      "125/125 [==============================] - 171s - loss: 0.1796 - acc: 0.9392 - val_loss: 1.8834 - val_acc: 0.6640\n",
      "Epoch 12/50\n",
      "125/125 [==============================] - 171s - loss: 0.1566 - acc: 0.9407 - val_loss: 1.9542 - val_acc: 0.6037\n",
      "Epoch 13/50\n",
      "125/125 [==============================] - 171s - loss: 0.1636 - acc: 0.9405 - val_loss: 2.4219 - val_acc: 0.6662\n",
      "Epoch 14/50\n",
      "125/125 [==============================] - 170s - loss: 0.1836 - acc: 0.9381 - val_loss: 2.0170 - val_acc: 0.6505\n",
      "Epoch 15/50\n",
      "125/125 [==============================] - 171s - loss: 0.1601 - acc: 0.9559 - val_loss: 1.7820 - val_acc: 0.6024\n",
      "Epoch 16/50\n",
      "125/125 [==============================] - 170s - loss: 0.1236 - acc: 0.9559 - val_loss: 2.7497 - val_acc: 0.6622\n",
      "Epoch 17/50\n",
      "125/125 [==============================] - 26336s - loss: 0.1244 - acc: 0.9638 - val_loss: 2.1120 - val_acc: 0.5625\n",
      "Epoch 18/50\n",
      "125/125 [==============================] - 209s - loss: 0.1061 - acc: 0.9631 - val_loss: 2.3731 - val_acc: 0.6316\n",
      "Epoch 19/50\n",
      "125/125 [==============================] - 195s - loss: 0.1159 - acc: 0.9673 - val_loss: 2.0641 - val_acc: 0.5336\n",
      "Epoch 20/50\n",
      "125/125 [==============================] - 203s - loss: 0.1221 - acc: 0.9654 - val_loss: 2.2987 - val_acc: 0.6423\n",
      "Epoch 21/50\n",
      "125/125 [==============================] - 189s - loss: 0.1645 - acc: 0.9543 - val_loss: 2.6185 - val_acc: 0.6290\n",
      "Epoch 22/50\n",
      "125/125 [==============================] - 174s - loss: 0.1396 - acc: 0.9654 - val_loss: 2.2408 - val_acc: 0.6761\n",
      "Epoch 23/50\n",
      "125/125 [==============================] - 172s - loss: 0.1011 - acc: 0.9684 - val_loss: 2.6327 - val_acc: 0.6569\n",
      "Epoch 24/50\n",
      "125/125 [==============================] - 171s - loss: 0.1275 - acc: 0.9683 - val_loss: 2.5433 - val_acc: 0.6356\n",
      "Epoch 25/50\n",
      "125/125 [==============================] - 171s - loss: 0.1258 - acc: 0.9649 - val_loss: 2.5242 - val_acc: 0.6356\n",
      "Epoch 26/50\n",
      "125/125 [==============================] - 172s - loss: 0.0903 - acc: 0.9744 - val_loss: 3.7014 - val_acc: 0.6396\n",
      "Epoch 27/50\n",
      "125/125 [==============================] - 172s - loss: 0.0862 - acc: 0.9770 - val_loss: 2.7199 - val_acc: 0.5806\n",
      "Epoch 28/50\n",
      "125/125 [==============================] - 1854s - loss: 0.0963 - acc: 0.9716 - val_loss: 3.7409 - val_acc: 0.6170\n",
      "Epoch 29/50\n",
      "125/125 [==============================] - 197s - loss: 0.1022 - acc: 0.9749 - val_loss: 3.3672 - val_acc: 0.6250\n",
      "Epoch 30/50\n",
      "125/125 [==============================] - 183s - loss: 0.1264 - acc: 0.9708 - val_loss: 2.3711 - val_acc: 0.5511\n",
      "Epoch 31/50\n",
      "125/125 [==============================] - 202s - loss: 0.1105 - acc: 0.9747 - val_loss: 2.6929 - val_acc: 0.6356\n",
      "Epoch 32/50\n",
      "125/125 [==============================] - 208s - loss: 0.1320 - acc: 0.9675 - val_loss: 2.3660 - val_acc: 0.6543\n",
      "Epoch 33/50\n",
      "125/125 [==============================] - 192s - loss: 0.1062 - acc: 0.9767 - val_loss: 2.2562 - val_acc: 0.6822\n",
      "Epoch 34/50\n",
      "125/125 [==============================] - 11498s - loss: 0.1398 - acc: 0.9699 - val_loss: 2.0903 - val_acc: 0.6223\n",
      "Epoch 35/50\n",
      "125/125 [==============================] - 179s - loss: 0.1486 - acc: 0.9672 - val_loss: 3.5636 - val_acc: 0.6532\n",
      "Epoch 36/50\n",
      "125/125 [==============================] - 184s - loss: 0.1230 - acc: 0.9598 - val_loss: 2.8260 - val_acc: 0.6290\n",
      "Epoch 37/50\n",
      "125/125 [==============================] - 177s - loss: 0.1484 - acc: 0.9636 - val_loss: 3.0196 - val_acc: 0.6316\n",
      "Epoch 38/50\n",
      "125/125 [==============================] - 186s - loss: 0.1221 - acc: 0.9632 - val_loss: 2.7490 - val_acc: 0.5954\n",
      "Epoch 39/50\n",
      "125/125 [==============================] - 197s - loss: 0.1029 - acc: 0.9747 - val_loss: 3.9372 - val_acc: 0.6157\n",
      "Epoch 40/50\n",
      "125/125 [==============================] - 179s - loss: 0.1156 - acc: 0.9730 - val_loss: 3.6792 - val_acc: 0.6449\n",
      "Epoch 41/50\n",
      "125/125 [==============================] - 198s - loss: 0.1176 - acc: 0.9749 - val_loss: 3.3391 - val_acc: 0.6037\n",
      "Epoch 42/50\n",
      "125/125 [==============================] - 197s - loss: 0.1582 - acc: 0.9636 - val_loss: 2.5599 - val_acc: 0.6689\n",
      "Epoch 43/50\n",
      "125/125 [==============================] - 172s - loss: 0.1407 - acc: 0.9691 - val_loss: 2.6641 - val_acc: 0.6290\n",
      "Epoch 44/50\n",
      "125/125 [==============================] - 171s - loss: 0.1518 - acc: 0.9726 - val_loss: 3.6508 - val_acc: 0.5745\n",
      "Epoch 45/50\n",
      "125/125 [==============================] - 174s - loss: 0.1551 - acc: 0.9647 - val_loss: 2.4257 - val_acc: 0.5851\n",
      "Epoch 46/50\n",
      "125/125 [==============================] - 170s - loss: 0.1583 - acc: 0.9666 - val_loss: 3.0611 - val_acc: 0.5995\n",
      "Epoch 47/50\n",
      "125/125 [==============================] - 171s - loss: 0.1427 - acc: 0.9579 - val_loss: 4.7054 - val_acc: 0.5918\n",
      "Epoch 48/50\n",
      "125/125 [==============================] - 183s - loss: 0.1431 - acc: 0.9693 - val_loss: 4.1632 - val_acc: 0.6011\n",
      "Epoch 49/50\n",
      "125/125 [==============================] - 172s - loss: 0.1247 - acc: 0.9715 - val_loss: 2.0919 - val_acc: 0.5957\n",
      "Epoch 50/50\n",
      "125/125 [==============================] - 170s - loss: 0.2005 - acc: 0.9632 - val_loss: 1.6226 - val_acc: 0.6609\n"
     ]
    }
   ],
   "source": [
    "model.fit_generator(\n",
    "    train_generator,\n",
    "    steps_per_epoch=2000 // batch_size,\n",
    "    epochs = 50,\n",
    "    validation_data = validation_generator,\n",
    "    validation_steps = 800 // batch_size)\n",
    "\n",
    "model.save_weights('weights/categorical_Cbb_uncropped_scratch.h5')"
   ]
  },
  {
   "cell_type": "code",
   "execution_count": null,
   "metadata": {},
   "outputs": [],
   "source": []
  }
 ],
 "metadata": {
  "kernelspec": {
   "display_name": "Python 3",
   "language": "python",
   "name": "python3"
  },
  "language_info": {
   "codemirror_mode": {
    "name": "ipython",
    "version": 3
   },
   "file_extension": ".py",
   "mimetype": "text/x-python",
   "name": "python",
   "nbconvert_exporter": "python",
   "pygments_lexer": "ipython3",
   "version": "3.5.2"
  }
 },
 "nbformat": 4,
 "nbformat_minor": 2
}
